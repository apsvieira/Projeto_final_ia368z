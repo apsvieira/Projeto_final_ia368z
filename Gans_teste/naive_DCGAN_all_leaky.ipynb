{
 "cells": [
  {
   "cell_type": "code",
   "execution_count": 1,
   "metadata": {
    "collapsed": true
   },
   "outputs": [],
   "source": [
    "import os\n",
    "import time\n",
    "import sys\n",
    "import numpy as np\n",
    "\n",
    "import torch\n",
    "import torch.nn as nn\n",
    "import torch.nn.parallel\n",
    "import torch.backends.cudnn as cudnn\n",
    "import torch.optim as optim\n",
    "import torch.utils.data\n",
    "\n",
    "import torchvision\n",
    "import torchvision.transforms as transforms\n",
    "import torchvision.utils as vutils\n",
    "import torch.nn.functional as F\n",
    "from torch.autograd import Variable\n",
    "import matplotlib.pyplot as plt\n",
    "import matplotlib.gridspec as gridspec\n",
    "%matplotlib inline\n"
   ]
  },
  {
   "cell_type": "code",
   "execution_count": 2,
   "metadata": {
    "collapsed": true
   },
   "outputs": [],
   "source": [
    "#fake_2 = fake.detach()\n",
    "\n",
    "#Usar o fixed_noise para salvar as imagens!"
   ]
  },
  {
   "cell_type": "markdown",
   "metadata": {},
   "source": [
    "### System properties and libs currently in use\n",
    "- We have developed using python 3.5.x, pytorch 0.2.1\n",
    "- No significant attention was given to backwards compatibility"
   ]
  },
  {
   "cell_type": "code",
   "execution_count": 3,
   "metadata": {},
   "outputs": [
    {
     "name": "stdout",
     "output_type": "stream",
     "text": [
      "__Python VERSION: 3.5.3 |Anaconda 4.4.0 (64-bit)| (default, Mar  6 2017, 11:58:13) \n",
      "[GCC 4.4.7 20120313 (Red Hat 4.4.7-1)]\n",
      "__pyTorch VERSION: 0.2.0_4\n",
      "__CUDA VERSION\n",
      "__CUDNN VERSION: 6021\n",
      "__Number CUDA Devices: 1\n",
      "__Devices\n",
      "Active CUDA Device: GPU 0\n"
     ]
    }
   ],
   "source": [
    "print('__Python VERSION:', sys.version)\n",
    "print('__pyTorch VERSION:', torch.__version__)\n",
    "print('__CUDA VERSION')\n",
    "print('__CUDNN VERSION:', torch.backends.cudnn.version())\n",
    "print('__Number CUDA Devices:', torch.cuda.device_count())\n",
    "print('__Devices')\n",
    "print('Active CUDA Device: GPU', torch.cuda.current_device())"
   ]
  },
  {
   "cell_type": "markdown",
   "metadata": {},
   "source": [
    "### Utilities\n",
    "- Saving images and models"
   ]
  },
  {
   "cell_type": "code",
   "execution_count": 4,
   "metadata": {
    "collapsed": true
   },
   "outputs": [],
   "source": [
    "def save_images(netG, fixed_noise, outputDir,epoch):\n",
    "    '''\n",
    "    Generates a batch of images from the given 'noise'.\n",
    "    Saves 64 of the generated samples to 'outputDir' system path.\n",
    "    Inputs are the network (netG), a 'noise' input, system path to which images will be saved (outputDir) and current 'epoch'.\n",
    "    '''\n",
    "    assert isinstance(fixed_noise,torch.autograd.variable.Variable)\n",
    "    netG.eval()\n",
    "    fake = netG(noise)\n",
    "    netG.train()\n",
    "    vutils.save_image(fake.data[0:64,:,:,:],'%s/fake_samples_epoch_%03d.png' % (outputDir, epoch), nrow=8)\n",
    "\n",
    "def save_models(netG, netD, outputDir, epoch):\n",
    "    '''\n",
    "    Saves model state dictionary for generator and discriminator networks.\n",
    "    Inputs are the networks (netG, netD), the system path in which to save(outputDir) and the current 'epoch'.\n",
    "    '''\n",
    "    torch.save(netG.state_dict(), '%s/netG_epoch_%d.pth' % (outputDir, epoch))\n",
    "    torch.save(netD.state_dict(), '%s/netD_epoch_%d.pth' % (outputDir, epoch))"
   ]
  },
  {
   "cell_type": "code",
   "execution_count": 5,
   "metadata": {
    "collapsed": true
   },
   "outputs": [],
   "source": [
    "def plot_samples(samples):\n",
    "    fig = plt.figure(figsize=(5, 5))\n",
    "    gs = gridspec.GridSpec(5, 5)\n",
    "    gs.update(wspace=0.05, hspace=0.05)\n",
    "    for i, sample in enumerate(samples[:25]):\n",
    "        ax = plt.subplot(gs[i])\n",
    "        plt.axis('off')\n",
    "        ax.set_xticklabels([])\n",
    "        ax.set_yticklabels([])\n",
    "        ax.set_aspect('equal')\n",
    "        plt.imshow(sample.reshape(28, 28), cmap='Greys_r')\n",
    "    return fig"
   ]
  },
  {
   "cell_type": "code",
   "execution_count": 6,
   "metadata": {
    "collapsed": true
   },
   "outputs": [],
   "source": [
    "def save_images2(g_net,fixed_noise,epoch):\n",
    "    g_net.eval()\n",
    "    fake_data = g_net(fixed_noise)\n",
    "    g_net.train()\n",
    "    fig = plot_samples(fake_data.data.cpu().numpy())\n",
    "    plt.savefig(outputDir + '/dcgan_img_{:04d}.png'.format(epoch, bbox_inches='tight'))\n",
    "    plt.close(fig)\n"
   ]
  },
  {
   "cell_type": "code",
   "execution_count": 7,
   "metadata": {},
   "outputs": [
    {
     "name": "stdout",
     "output_type": "stream",
     "text": [
      "You are using CUDA. If it is not what you want, manually set this as False!\n",
      "True\n"
     ]
    }
   ],
   "source": [
    "cudnn.benchmark = True\n",
    "\n",
    "use_gpu = torch.cuda.is_available()\n",
    "if use_gpu:\n",
    "    print(\"You are using CUDA. If it is not what you want, manually set this as False!\")\n",
    "print(use_gpu)"
   ]
  },
  {
   "cell_type": "markdown",
   "metadata": {},
   "source": [
    "### Output Directory\n",
    "This is where images will be saved to.\n",
    "\n",
    "If directory does not exist, it is created."
   ]
  },
  {
   "cell_type": "code",
   "execution_count": 8,
   "metadata": {},
   "outputs": [
    {
     "name": "stdout",
     "output_type": "stream",
     "text": [
      "OS error: [Errno 17] File exists: 'outputdir_train_classifier_teste2'\n"
     ]
    }
   ],
   "source": [
    "outputDir = 'outputdir_train_classifier_teste2'\n",
    "\n",
    "try:\n",
    "    os.makedirs(outputDir)\n",
    "except OSError as err:\n",
    "    print(\"OS error: {0}\".format(err))"
   ]
  },
  {
   "cell_type": "markdown",
   "metadata": {},
   "source": [
    "### Dataset definition and hyperparameter setting\n",
    "- Changing dataset name alters network architecture parameters\n",
    "- Currently supporting few datasets\n",
    "- Hyperparameters defined according to Radford et al. (2015)\n",
    "\n",
    "Valores típicos são\n",
    "\n",
    "nc = 3,\n",
    "\n",
    "ngpu = 1,\n",
    "\n",
    "nz = 100,\n",
    "\n",
    "ngf = 64,\n",
    "\n",
    "ndf = 64,\n",
    "\n",
    "n_extra_d = 0,\n",
    "\n",
    "n_extra_g = 1,\n",
    "\n",
    "imageSize = 64"
   ]
  },
  {
   "cell_type": "code",
   "execution_count": 9,
   "metadata": {
    "collapsed": true
   },
   "outputs": [],
   "source": [
    "batch_size = 64\n",
    "\n",
    "chosen_dataset = 'MNIST'\n",
    "\n",
    "datasets = {\n",
    "    'MNIST': torchvision.datasets.MNIST,\n",
    "    'CIFAR10': torchvision.datasets.CIFAR10,\n",
    "    'ANIME': '/home/gabriel/Redes Neurais/Projeto_Final_GANS/Tutorial_2/dataset/min_anime-faces',\n",
    "}\n",
    "\n",
    "dataset = datasets[chosen_dataset]"
   ]
  },
  {
   "cell_type": "code",
   "execution_count": 10,
   "metadata": {
    "collapsed": true
   },
   "outputs": [],
   "source": [
    "possible_parameters = {\n",
    "    'MNIST': {\n",
    "        'ndf': 64,\n",
    "        'ngf': 64,\n",
    "        'nz': 100,\n",
    "        'nc': 1,\n",
    "        'imageSize': 28,\n",
    "        'n_classes' : 10,\n",
    "        'ngpu': 1,\n",
    "    },\n",
    "    'CIFAR10': {\n",
    "        'ndf': 64,\n",
    "        'ngf': 64,\n",
    "        'nz': 100,\n",
    "        'nc': 3,\n",
    "        'imageSize' : 64,\n",
    "        'n_classes' : 10,\n",
    "        'ngpu' : 1,\n",
    "    },\n",
    "    'ANIME': {\n",
    "        'nc' : 3,\n",
    "        'ngpu' : 1,\n",
    "        'nz' : 100,\n",
    "        'ngf' : 64,\n",
    "        'ndf' : 64,\n",
    "        'imageSize' : 64,\n",
    "        'n_classes' : 1\n",
    "    }\n",
    "}"
   ]
  },
  {
   "cell_type": "code",
   "execution_count": 11,
   "metadata": {
    "collapsed": true
   },
   "outputs": [],
   "source": [
    "ngf = possible_parameters[chosen_dataset]['ngf']\n",
    "ndf = possible_parameters[chosen_dataset]['ndf']\n",
    "nz = possible_parameters[chosen_dataset]['nz']\n",
    "nc = possible_parameters[chosen_dataset]['nc']\n",
    "imageSize = possible_parameters[chosen_dataset]['imageSize']\n",
    "n_classes = possible_parameters[chosen_dataset]['n_classes']\n",
    "ngpu = possible_parameters[chosen_dataset]['ngpu']"
   ]
  },
  {
   "cell_type": "markdown",
   "metadata": {},
   "source": [
    "## Creating the Dataset!"
   ]
  },
  {
   "cell_type": "code",
   "execution_count": 12,
   "metadata": {},
   "outputs": [
    {
     "name": "stdout",
     "output_type": "stream",
     "text": [
      "Dataloader length: 938\n",
      "Dataset: <torchvision.datasets.mnist.MNIST object at 0x7f9cb8685240>\n"
     ]
    }
   ],
   "source": [
    "if dataset == 'ANIME':\n",
    "    dataset = torchvision.datasets.ImageFolder(\n",
    "        root='/home/gabriel/Redes Neurais/Projeto_Final_GANS/Tutorial_2/dataset/min_anime-faces',\n",
    "        transform=transforms.Compose([\n",
    "                transforms.Scale((imageSize, imageSize)),\n",
    "                transforms.ToTensor(),\n",
    "            ])\n",
    "    )\n",
    "else:\n",
    "    transform = transforms.Compose([\n",
    "                    transforms.Scale((imageSize, imageSize)),\n",
    "                    transforms.ToTensor(),\n",
    "                    transforms.Normalize((0.5,0.5,0.5), (0.5,0.5,0.5)), # bring images to (-1,1)\n",
    "                ]) \n",
    "    dataset_done = dataset('./datasets', train=True, download=True, transform=transform)\n",
    "    dataloader = torch.utils.data.DataLoader(dataset_done, batch_size=batch_size, shuffle=True, num_workers=4)\n",
    "print('Dataloader length:', len(dataloader))\n",
    "print(\"Dataset:\", dataloader.dataset)\n"
   ]
  },
  {
   "cell_type": "markdown",
   "metadata": {},
   "source": [
    "## Definição dos modelos\n",
    "- Model is a DCGAN\n",
    "- Images are sized (nc, 64, 64)"
   ]
  },
  {
   "cell_type": "code",
   "execution_count": 13,
   "metadata": {
    "collapsed": true
   },
   "outputs": [],
   "source": [
    "class _netG_DCGAN_MNIST(nn.Module):\n",
    "    def __init__(self, nz, nc, ngf=64):\n",
    "        super().__init__()\n",
    "        self.main = nn.Sequential(\n",
    "            # input is Z, going into a convolution\n",
    "            nn.ConvTranspose2d(nz, ngf * 4, kernel_size=4, stride=1, padding=0, bias=False),\n",
    "            nn.BatchNorm2d(ngf * 4),\n",
    "            #nn.ReLU(True),\n",
    "            nn.LeakyReLU(0.2),\n",
    "            \n",
    "            # state size. (ngf*4) x 4 x 4\n",
    "            nn.ConvTranspose2d(ngf * 4, ngf * 2, kernel_size=4, stride=1, padding=0, bias=False),\n",
    "            nn.BatchNorm2d(ngf * 2),\n",
    "            #nn.ReLU(True),\n",
    "            nn.LeakyReLU(0.2),\n",
    "            \n",
    "            # state size. (ngf*2) x 7 x 7\n",
    "            nn.ConvTranspose2d(ngf * 2, ngf, kernel_size=4, stride=2, padding=1, bias=False),\n",
    "            nn.BatchNorm2d(ngf),\n",
    "            #nn.ReLU(True),\n",
    "            nn.LeakyReLU(0.2),\n",
    "            \n",
    "            # state size. (ngf) x 14 x 14\n",
    "            nn.ConvTranspose2d(ngf, nc, kernel_size=4, stride=2, padding=1, bias=False),\n",
    "            nn.Tanh()\n",
    "            \n",
    "            # state size. (nc) x 28 x 28\n",
    "        )\n",
    "\n",
    "    def forward(self, input):\n",
    "        output = self.main(input)\n",
    "        return output"
   ]
  },
  {
   "cell_type": "code",
   "execution_count": 14,
   "metadata": {
    "collapsed": true
   },
   "outputs": [],
   "source": [
    "class _netD_DCGAN_MNIST(nn.Module):\n",
    "    def __init__(self, nc, ndf=64):\n",
    "        super().__init__()\n",
    "        self.main = nn.Sequential(\n",
    "            # input is (nc) x 28 x 28\n",
    "            nn.Conv2d(nc, ndf, kernel_size=4, stride=2, padding=1, bias=False),\n",
    "            nn.LeakyReLU(0.2, inplace=True),\n",
    "            \n",
    "            # state size. (ndf) x 14 x 14\n",
    "            nn.Conv2d(ndf, ndf * 2, kernel_size=4, stride=2, padding=1, bias=False),\n",
    "            nn.BatchNorm2d(ndf * 2),\n",
    "            nn.LeakyReLU(0.2, inplace=True),\n",
    "            \n",
    "            # state size. (ndf*2) x 7 x 7\n",
    "            nn.Conv2d(ndf * 2, ndf * 4, kernel_size=4, stride=1, padding=0, bias=False),\n",
    "            nn.BatchNorm2d(ndf * 4),\n",
    "            nn.LeakyReLU(0.2, inplace=True),\n",
    "            \n",
    "            # state size. (ndf*4) x 4 x 4\n",
    "            nn.Conv2d(ndf * 4, 1, kernel_size=4, stride=1, padding=0, bias=False),\n",
    "            nn.Sigmoid()\n",
    "        )\n",
    "\n",
    "    def forward(self, input):\n",
    "        output = self.main(input)\n",
    "        return output.view(-1, 1).squeeze(1)\n"
   ]
  },
  {
   "cell_type": "code",
   "execution_count": 16,
   "metadata": {},
   "outputs": [],
   "source": [
    "#netG = _netG_DCGAN(ngpu, nz, nc, ngf = 28)\n",
    "netG = _netG_DCGAN_MNIST(nz=nz, nc=nc, ngf=64)\n",
    "#netD = _netD_DCGAN(ngpu, nz, nc, ndf, n_classes)\n",
    "netD = _netD_DCGAN_MNIST(nc=nc, ndf=64)\n"
   ]
  },
  {
   "cell_type": "markdown",
   "metadata": {},
   "source": [
    "## Inicializador de pesos"
   ]
  },
  {
   "cell_type": "code",
   "execution_count": 17,
   "metadata": {
    "collapsed": true
   },
   "outputs": [],
   "source": [
    "def weights_init(m):\n",
    "    classname = m.__class__.__name__\n",
    "    if classname.find('Conv') != -1:\n",
    "        m.weight.data.normal_(0.0, 0.02)\n",
    "    elif classname.find('BatchNorm') != -1:\n",
    "        m.weight.data.normal_(1.0, 0.02)\n",
    "        m.bias.data.fill_(0)"
   ]
  },
  {
   "cell_type": "code",
   "execution_count": 18,
   "metadata": {},
   "outputs": [
    {
     "name": "stdout",
     "output_type": "stream",
     "text": [
      "_netG_DCGAN_MNIST (\n",
      "  (main): Sequential (\n",
      "    (0): ConvTranspose2d(100, 256, kernel_size=(4, 4), stride=(1, 1), bias=False)\n",
      "    (1): BatchNorm2d(256, eps=1e-05, momentum=0.1, affine=True)\n",
      "    (2): LeakyReLU (0.2)\n",
      "    (3): ConvTranspose2d(256, 128, kernel_size=(4, 4), stride=(1, 1), bias=False)\n",
      "    (4): BatchNorm2d(128, eps=1e-05, momentum=0.1, affine=True)\n",
      "    (5): LeakyReLU (0.2)\n",
      "    (6): ConvTranspose2d(128, 64, kernel_size=(4, 4), stride=(2, 2), padding=(1, 1), bias=False)\n",
      "    (7): BatchNorm2d(64, eps=1e-05, momentum=0.1, affine=True)\n",
      "    (8): LeakyReLU (0.2)\n",
      "    (9): ConvTranspose2d(64, 1, kernel_size=(4, 4), stride=(2, 2), padding=(1, 1), bias=False)\n",
      "    (10): Tanh ()\n",
      "  )\n",
      ") \n",
      " _netD_DCGAN_MNIST (\n",
      "  (main): Sequential (\n",
      "    (0): Conv2d(1, 64, kernel_size=(4, 4), stride=(2, 2), padding=(1, 1), bias=False)\n",
      "    (1): LeakyReLU (0.2, inplace)\n",
      "    (2): Conv2d(64, 128, kernel_size=(4, 4), stride=(2, 2), padding=(1, 1), bias=False)\n",
      "    (3): BatchNorm2d(128, eps=1e-05, momentum=0.1, affine=True)\n",
      "    (4): LeakyReLU (0.2, inplace)\n",
      "    (5): Conv2d(128, 256, kernel_size=(4, 4), stride=(1, 1), bias=False)\n",
      "    (6): BatchNorm2d(256, eps=1e-05, momentum=0.1, affine=True)\n",
      "    (7): LeakyReLU (0.2, inplace)\n",
      "    (8): Conv2d(256, 1, kernel_size=(4, 4), stride=(1, 1), bias=False)\n",
      "    (9): Sigmoid ()\n",
      "  )\n",
      ")\n"
     ]
    }
   ],
   "source": [
    "netG.apply(weights_init)\n",
    "netD.apply(weights_init)\n",
    "print(netG, '\\n', netD)"
   ]
  },
  {
   "cell_type": "markdown",
   "metadata": {},
   "source": [
    "## Losses\n",
    "- Binary Cross-Entropy is used to differentiate real and fake images\n",
    "- Class loss should be Cross-Entropy"
   ]
  },
  {
   "cell_type": "code",
   "execution_count": 19,
   "metadata": {
    "collapsed": true
   },
   "outputs": [],
   "source": [
    "#criterion = nn.CrossEntropyLoss()\n",
    "criterion = nn.BCELoss()"
   ]
  },
  {
   "cell_type": "markdown",
   "metadata": {},
   "source": [
    "# Teste se as redes estão funcionando"
   ]
  },
  {
   "cell_type": "code",
   "execution_count": 20,
   "metadata": {},
   "outputs": [
    {
     "name": "stdout",
     "output_type": "stream",
     "text": [
      "Time elapsed for G creating an image = 0.183425 seconds.\n",
      "test_output G size torch.Size([64, 1, 28, 28])\n",
      "Time elapsed for D analysing fake image = 0.133414 seconds.\n"
     ]
    }
   ],
   "source": [
    "test_input_G = torch.randn(64,100,1,1)\n",
    "test_input_G = Variable(test_input_G)\n",
    "begin = time.time()\n",
    "test_output_G = netG(test_input_G)\n",
    "end = time.time()\n",
    "print('Time elapsed for G creating an image = {0:.6f} seconds.'.format(end-begin))\n",
    "print('test_output G size', test_output_G.size())\n",
    "begin = time.time()\n",
    "test_output_D = netD(test_output_G)\n",
    "end = time.time()\n",
    "print('Time elapsed for D analysing fake image = {0:.6f} seconds.'.format(end-begin))\n"
   ]
  },
  {
   "cell_type": "markdown",
   "metadata": {},
   "source": [
    "## Sizes of the tensors"
   ]
  },
  {
   "cell_type": "code",
   "execution_count": 22,
   "metadata": {},
   "outputs": [
    {
     "name": "stdout",
     "output_type": "stream",
     "text": [
      "torch.Size([64])\n"
     ]
    }
   ],
   "source": [
    "\n",
    "label = torch.FloatTensor(batch_size)\n",
    "print(label.size())"
   ]
  },
  {
   "cell_type": "code",
   "execution_count": 23,
   "metadata": {},
   "outputs": [
    {
     "name": "stdout",
     "output_type": "stream",
     "text": [
      "Input images size: torch.Size([64, 3, 28, 28])\n",
      "Code size: torch.Size([64, 100, 1, 1])\n"
     ]
    }
   ],
   "source": [
    "# make our input tensors\n",
    "d_input = torch.FloatTensor(batch_size, 3, imageSize, imageSize)\n",
    "print('Input images size:', d_input.size())\n",
    "#nz its the latent dimension\n",
    "noise = torch.FloatTensor(batch_size, nz, 1, 1)\n",
    "fixed_noise = torch.FloatTensor(batch_size, nz, 1, 1).normal_(0, 1)\n",
    "print('Code size:', noise.size())"
   ]
  },
  {
   "cell_type": "code",
   "execution_count": 24,
   "metadata": {},
   "outputs": [
    {
     "name": "stdout",
     "output_type": "stream",
     "text": [
      "Label size: torch.Size([64])\n"
     ]
    }
   ],
   "source": [
    "#label = torch.LongTensor(batch_size,n_classes)\n",
    "label = torch.LongTensor(batch_size)\n",
    "print('Label size:', label.size())\n",
    "#fake_label = 10\n",
    "fake_label = 0\n",
    "real_label = 1"
   ]
  },
  {
   "cell_type": "markdown",
   "metadata": {},
   "source": [
    "## Broadcast to GPU"
   ]
  },
  {
   "cell_type": "code",
   "execution_count": 25,
   "metadata": {
    "collapsed": true
   },
   "outputs": [],
   "source": [
    "if use_gpu:\n",
    "    netD.cuda()\n",
    "    netG.cuda()\n",
    "    criterion = criterion.cuda()\n",
    "    d_input,label = d_input.cuda(), label.cuda()\n",
    "    noise, fixed_noise = noise.cuda(), fixed_noise.cuda()"
   ]
  },
  {
   "cell_type": "markdown",
   "metadata": {},
   "source": [
    "## Turning tensors into Variables"
   ]
  },
  {
   "cell_type": "code",
   "execution_count": 26,
   "metadata": {
    "collapsed": true
   },
   "outputs": [],
   "source": [
    "\n",
    "d_input = Variable(d_input)\n",
    "label = Variable(label)\n",
    "noise = Variable(noise)\n",
    "fixed_noise = Variable(fixed_noise)"
   ]
  },
  {
   "cell_type": "markdown",
   "metadata": {},
   "source": [
    "## Optimizer Parameters\n",
    "- Following the lead of Radford et al., 2015:\n",
    "\n",
    "    <b>\n",
    "    1. beta1 = 0.5\n",
    "    2. beta2 = 0.999\n",
    "    3. lr = 0.0002\n",
    "    </b>"
   ]
  },
  {
   "cell_type": "code",
   "execution_count": 27,
   "metadata": {
    "collapsed": true
   },
   "outputs": [],
   "source": [
    "beta1, beta2 = 0.5, 0.999\n",
    "lr = 2.0e-4\n",
    "optimizerD = optim.Adam(netD.parameters(), lr = lr, betas = (beta1, beta2))\n",
    "#optimizerD = optim.Adam(netD_parallel.parameters(), lr = lr, betas = (beta1, beta2))\n",
    "\n",
    "optimizerG = optim.Adam(netG.parameters(), lr = lr, betas = (beta1, beta2))\n",
    "#optimizerG = optim.Adam(netG_parallel.parameters(), lr = lr, betas = (beta1, beta2))"
   ]
  },
  {
   "cell_type": "code",
   "execution_count": 29,
   "metadata": {},
   "outputs": [
    {
     "name": "stdout",
     "output_type": "stream",
     "text": [
      "Generator output size: torch.Size([64, 1, 28, 28])\n",
      "Discriminator output size: torch.Size([64])\n"
     ]
    }
   ],
   "source": [
    "test_input_G = torch.randn(64, 100, 1, 1)\n",
    "test_input_G = Variable(test_input_G)\n",
    "test_output_G = netG(test_input_G.cuda())\n",
    "print('Generator output size:', test_output_G.size())\n",
    "then = time.time()\n",
    "test_output_D = netD(test_output_G)\n",
    "now = time.time()\n",
    "print('Discriminator output size:', test_output_D.size())\n"
   ]
  },
  {
   "cell_type": "markdown",
   "metadata": {},
   "source": [
    "\n",
    "## Treinamento "
   ]
  },
  {
   "cell_type": "code",
   "execution_count": 30,
   "metadata": {
    "collapsed": true
   },
   "outputs": [],
   "source": [
    "#print(np.random.random_sample())\n",
    "#real_labelSmooth = 0.2\n",
    "#print(real_labelSmooth)\n",
    "#target = torch.from_numpy(np.random.randint(0, n_classes, batch_size)).type(torch.LongTensor).cuda()\n",
    "#print(target.size())\n"
   ]
  },
  {
   "cell_type": "code",
   "execution_count": 31,
   "metadata": {
    "collapsed": true
   },
   "outputs": [],
   "source": [
    "\n",
    "def train_gan(num_epochs, dataloader, netD, netG, outputDir, label, noise,\n",
    "              real_labelSmooth=0, epoch_interval=100, D_steps=1, G_steps=1):\n",
    "    \n",
    "    # This validation is subjective. WGAN-GP uses 100 steps on the critic (netD).\n",
    "    assert D_steps < 5, \"Keep it low, D_steps is too high.\"\n",
    "    assert G_steps < 3, \"Keep it low, G_steps is too high.\"\n",
    "    #assert batch_size % D_steps == 0, \"Use batch_size multiple of D_steps.\"\n",
    "    real_label = 1\n",
    "    size = int(len(dataloader.dataset)/dataloader.batch_size)\n",
    "    print('Lets train!')\n",
    "    loss_D = []\n",
    "    loss_G = []\n",
    "    for epoch in range(num_epochs):\n",
    "        start_iter = time.time()  \n",
    "        D_x = 0\n",
    "        D_G_z1 = 0\n",
    "        D_G_z2 = 0\n",
    "        errD_acum = 0\n",
    "        errG_acum = 0\n",
    "\n",
    "        for batch, data in enumerate(dataloader, 0):\n",
    "            if (epoch == 0 and batch == 0):\n",
    "                fig = plot_samples(data[0][0:data[0].size(0),:,:,:].cpu().numpy())\n",
    "                plt.savefig(outputDir + '/real_samples.png.png'.format(epoch, bbox_inches='tight'))\n",
    "                plt.close(fig)\n",
    "                #vutils.save_image(data[0][0:data[0].size(0),:,:,:], '%s/real_samples.png' % outputDir, nrow=8)\n",
    "            for step in range(D_steps):\n",
    "                #############################################################\n",
    "                # (1) Update D network: maximize log(D(x)) + log(1 - D(G(z)))\n",
    "                # 1A - Train the detective network in the Real Dataset\n",
    "                #############################################################\n",
    "                netD.zero_grad()\n",
    "                start = step*(int(data[0].size()[0]/D_steps))\n",
    "                end = (step+1)*int(data[0].size()[0]/D_steps)\n",
    "                #real_cpu = data[0][start:end]\n",
    "                #if use_gpu:\n",
    "                    #real_cpu = real_cpu.cuda()\n",
    "                #d_input.resize_as_(data[0][start:end]).copy_(data[0][start:end])\n",
    "                d_input.data.resize_(data[0][start:end].size()).copy_(data[0][start:end])\n",
    "                \n",
    "                batch_size = data[0][start:end].size(0)\n",
    "                #batch_size = real_cpu.size(0)\n",
    "                \n",
    "                #label.data.resize_(batch_size).fill_(real_label - d_labelSmooth) # use smooth label for discriminator\n",
    "                label.data.resize_(batch_size).fill_(real_label)\n",
    "\n",
    "                \n",
    "                #  if np.random.random_sample() > real_labelSmooth:        \n",
    "                #target = data[1][start:end].long().cuda()\n",
    "                #else:\n",
    "                #     target = torch.from_numpy(np.random.randint(0, n_classes, batch_size)).type(torch.LongTensor).cuda()\n",
    "                \n",
    "                #d_input, label = Variable(real_cpu), Variable(target)\n",
    "                \n",
    "                output = netD(d_input)\n",
    "                #print('output size',output.size())\n",
    "                errD_real = criterion(output.squeeze(),label.float())\n",
    "                #errD_real = criterion(output,label)\n",
    "                \n",
    "                errD_real.backward()\n",
    "                \n",
    "                D_x += output.data.mean()\n",
    "                \n",
    "                #######################################################\n",
    "                # 1B - Train the detective network in the False Dataset\n",
    "                #######################################################\n",
    "                \n",
    "                noise = Variable(torch.FloatTensor(batch_size, nz, 1, 1).normal_(0,1).cuda())\n",
    "                fake = netG(noise)\n",
    "                \n",
    "                #print('fake',fake.size())\n",
    "                #label = Variable(torch.ones(batch_size).long().fill_(fake_label).cuda())\n",
    "                label.data.resize_(batch_size).fill_(fake_label)\n",
    "                \n",
    "                output = netD(fake.detach()) # \".detach()\" to avoid backprop through G\n",
    "                \n",
    "                errD_fake = criterion(output.squeeze(), label.float())\n",
    "                errD_fake.backward() # gradients for fake and real data will be accumulated\n",
    "                \n",
    "                D_G_z1 += output.data.mean()\n",
    "                errD_acum += errD_real.data[0] + errD_fake.data[0]\n",
    "                optimizerD.step() # .step() can be called once the gradients are computed\n",
    "\n",
    "            for step in range(G_steps):\n",
    "                ####################################################################################\n",
    "                # (2) Update G network: maximize log(D(G(z)))\n",
    "                # Train the faker with the output from the Detective (but don't train the Detective)\n",
    "                ####################################################################################\n",
    "                \n",
    "                netG.zero_grad()\n",
    "                #tudo 1\n",
    "                #label = Variable(torch.from_numpy(np.random.randint(0, n_classes, batch_size)).type(torch.LongTensor).cuda())\n",
    "                #label = Variable(torch.ones(batch_size).long().fill_(real_label).cuda())\n",
    "                label.data.resize_(batch_size).fill_(real_label)\n",
    "                \n",
    "                output = netD(fake)\n",
    "                errG = criterion(output.squeeze(), label.float())\n",
    "                errG.backward()\n",
    "                \n",
    "                D_G_z2 += output.data.mean()\n",
    "                errG_acum += errG.data[0]\n",
    "                optimizerG.step()\n",
    "                #del input, noise, label, output\n",
    "\n",
    "        print('epoch = ',epoch)\n",
    "\n",
    "        end_iter = time.time()        \n",
    "\n",
    "        print('[%d/%d] Loss_D: %.4f Loss_G: %.4f D(x): %.4f D(G(z1)): %.4f D(G(z2)) %.4f Time Elapsed %.2f s'\n",
    "            % (epoch, num_epochs, (errD_acum/D_steps)/size, (errG_acum/G_steps)/size, D_x, D_G_z1, D_G_z2, end_iter-start_iter))\n",
    "\n",
    "        loss_D.append((errD_acum/D_steps)/size)\n",
    "        loss_G.append((errG_acum/G_steps)/size)\n",
    "        #Save a grid with the pictures from the dataset, up until 64\n",
    "        #save_images(netG = netG, fixed_noise=  fixed_noise, outputDir = outputDir, epoch = epoch)\n",
    "        print('printing')\n",
    "        save_images2(netG,fixed_noise,epoch)\n",
    "\n",
    "        if epoch % epoch_interval == 0:\n",
    "            # do checkpointing\n",
    "            save_models(netG = netG, netD = netD, outputDir = outputDir, epoch = epoch)\n",
    "    return(loss_D,loss_G)"
   ]
  },
  {
   "cell_type": "code",
   "execution_count": 32,
   "metadata": {
    "scrolled": false
   },
   "outputs": [
    {
     "name": "stdout",
     "output_type": "stream",
     "text": [
      "Lets train!\n",
      "epoch =  0\n",
      "[0/25] Loss_D: 0.3286 Loss_G: 3.3024 D(x): 826.8272 D(G(z1)): 117.9310 D(G(z2)) 77.0599 Time Elapsed 17.89 s\n",
      "printing\n",
      "epoch =  1\n",
      "[1/25] Loss_D: 0.3625 Loss_G: 3.1727 D(x): 827.5136 D(G(z1)): 110.6242 D(G(z2)) 87.8208 Time Elapsed 14.30 s\n",
      "printing\n",
      "epoch =  2\n",
      "[2/25] Loss_D: 0.3009 Loss_G: 3.3160 D(x): 838.7611 D(G(z1)): 98.6030 D(G(z2)) 74.8734 Time Elapsed 14.82 s\n",
      "printing\n",
      "epoch =  3\n",
      "[3/25] Loss_D: 0.3067 Loss_G: 3.3654 D(x): 835.1568 D(G(z1)): 102.3998 D(G(z2)) 76.2641 Time Elapsed 14.92 s\n",
      "printing\n",
      "epoch =  4\n",
      "[4/25] Loss_D: 0.2850 Loss_G: 3.5657 D(x): 842.7330 D(G(z1)): 94.4873 D(G(z2)) 67.9258 Time Elapsed 15.32 s\n",
      "printing\n",
      "epoch =  5\n",
      "[5/25] Loss_D: 0.2813 Loss_G: 3.6472 D(x): 843.2144 D(G(z1)): 93.5128 D(G(z2)) 66.4989 Time Elapsed 15.27 s\n",
      "printing\n",
      "epoch =  6\n",
      "[6/25] Loss_D: 0.2746 Loss_G: 3.6937 D(x): 845.6363 D(G(z1)): 92.4896 D(G(z2)) 64.1135 Time Elapsed 15.41 s\n",
      "printing\n",
      "epoch =  7\n",
      "[7/25] Loss_D: 0.2568 Loss_G: 3.8828 D(x): 851.4758 D(G(z1)): 85.9289 D(G(z2)) 58.7823 Time Elapsed 15.27 s\n",
      "printing\n",
      "epoch =  8\n",
      "[8/25] Loss_D: 0.2657 Loss_G: 3.8778 D(x): 849.3228 D(G(z1)): 87.8372 D(G(z2)) 60.9352 Time Elapsed 15.17 s\n",
      "printing\n",
      "epoch =  9\n",
      "[9/25] Loss_D: 0.2560 Loss_G: 3.9907 D(x): 853.9577 D(G(z1)): 83.3130 D(G(z2)) 57.6467 Time Elapsed 15.45 s\n",
      "printing\n",
      "epoch =  10\n",
      "[10/25] Loss_D: 0.2180 Loss_G: 4.1377 D(x): 863.6053 D(G(z1)): 74.1062 D(G(z2)) 49.8002 Time Elapsed 15.27 s\n",
      "printing\n",
      "epoch =  11\n",
      "[11/25] Loss_D: 0.2451 Loss_G: 4.1667 D(x): 859.6567 D(G(z1)): 77.9973 D(G(z2)) 50.8188 Time Elapsed 15.46 s\n",
      "printing\n",
      "epoch =  12\n",
      "[12/25] Loss_D: 0.2212 Loss_G: 4.2433 D(x): 866.3303 D(G(z1)): 71.6739 D(G(z2)) 46.8343 Time Elapsed 15.55 s\n",
      "printing\n",
      "epoch =  13\n",
      "[13/25] Loss_D: 0.1972 Loss_G: 4.3233 D(x): 871.5759 D(G(z1)): 66.1303 D(G(z2)) 42.6585 Time Elapsed 15.35 s\n",
      "printing\n",
      "epoch =  14\n",
      "[14/25] Loss_D: 0.1942 Loss_G: 4.6103 D(x): 877.8626 D(G(z1)): 60.1170 D(G(z2)) 39.0242 Time Elapsed 15.49 s\n",
      "printing\n",
      "epoch =  15\n",
      "[15/25] Loss_D: 0.1807 Loss_G: 4.4703 D(x): 875.3420 D(G(z1)): 62.3741 D(G(z2)) 39.3420 Time Elapsed 15.47 s\n",
      "printing\n",
      "epoch =  16\n",
      "[16/25] Loss_D: 0.2020 Loss_G: 4.4992 D(x): 870.7507 D(G(z1)): 66.9776 D(G(z2)) 42.4476 Time Elapsed 15.41 s\n",
      "printing\n",
      "epoch =  17\n",
      "[17/25] Loss_D: 0.1485 Loss_G: 4.8287 D(x): 887.8084 D(G(z1)): 50.1197 D(G(z2)) 30.7425 Time Elapsed 15.44 s\n",
      "printing\n",
      "epoch =  18\n",
      "[18/25] Loss_D: 0.2145 Loss_G: 4.4697 D(x): 870.2671 D(G(z1)): 67.5863 D(G(z2)) 41.7448 Time Elapsed 15.31 s\n",
      "printing\n",
      "epoch =  19\n",
      "[19/25] Loss_D: 0.1767 Loss_G: 4.6824 D(x): 880.5847 D(G(z1)): 57.1685 D(G(z2)) 34.5718 Time Elapsed 15.50 s\n",
      "printing\n",
      "epoch =  20\n",
      "[20/25] Loss_D: 0.2079 Loss_G: 4.5133 D(x): 869.9657 D(G(z1)): 67.9265 D(G(z2)) 42.3470 Time Elapsed 15.72 s\n",
      "printing\n",
      "epoch =  21\n",
      "[21/25] Loss_D: 0.2103 Loss_G: 4.6573 D(x): 872.9002 D(G(z1)): 64.6176 D(G(z2)) 38.7527 Time Elapsed 15.33 s\n",
      "printing\n",
      "epoch =  22\n",
      "[22/25] Loss_D: 0.1616 Loss_G: 4.7129 D(x): 884.2918 D(G(z1)): 53.8021 D(G(z2)) 32.0221 Time Elapsed 15.34 s\n",
      "printing\n",
      "epoch =  23\n",
      "[23/25] Loss_D: 0.1666 Loss_G: 4.9475 D(x): 884.4917 D(G(z1)): 53.6449 D(G(z2)) 33.0344 Time Elapsed 15.48 s\n",
      "printing\n",
      "epoch =  24\n",
      "[24/25] Loss_D: 0.2227 Loss_G: 4.7029 D(x): 873.2646 D(G(z1)): 64.5385 D(G(z2)) 41.4543 Time Elapsed 15.61 s\n",
      "printing\n"
     ]
    }
   ],
   "source": [
    "num_epochs = 25\n",
    "real_labelSmooth = 0.2\n",
    "\n",
    "loss_D,loss_G = train_gan(num_epochs, dataloader, netD,netG, outputDir,label,noise, real_labelSmooth)"
   ]
  },
  {
   "cell_type": "code",
   "execution_count": 33,
   "metadata": {},
   "outputs": [
    {
     "data": {
      "image/png": "[encoded data removed]",
      "text/plain": [
       "<matplotlib.figure.Figure at 0x7f9c7e241240>"
      ]
     },
     "metadata": {},
     "output_type": "display_data"
    }
   ],
   "source": [
    "def plot_graph(loss,label):\n",
    "    plt.xlabel('Epoch')\n",
    "    plt.ylabel('Loss')\n",
    "    plt.plot(range(0,num_epochs),loss, label = label)\n",
    "    #plt.grid(True)\n",
    "    plt.tight_layout()\n",
    "    plt.legend()\n",
    "plot_graph(loss_D,'loss_D')"
   ]
  },
  {
   "cell_type": "code",
   "execution_count": 34,
   "metadata": {},
   "outputs": [
    {
     "data": {
      "image/png": "[encoded data removed]",
      "text/plain": [
       "<matplotlib.figure.Figure at 0x7f9c7e20ffd0>"
      ]
     },
     "metadata": {},
     "output_type": "display_data"
    }
   ],
   "source": [
    "plot_graph(loss_G,'loss_G')"
   ]
  },
  {
   "cell_type": "code",
   "execution_count": 35,
   "metadata": {},
   "outputs": [
    {
     "data": {
      "image/png": "[encoded data removed]",
      "text/plain": [
       "<matplotlib.figure.Figure at 0x7f9c7e067b00>"
      ]
     },
     "metadata": {},
     "output_type": "display_data"
    }
   ],
   "source": [
    "def final_plot(num_epochs,save_interval,outputDir):\n",
    "\n",
    "    fig = plt.figure(figsize=(15, 18))\n",
    "\n",
    "    for i, fn in enumerate(range(0, num_epochs, save_interval)):\n",
    "        fig.add_subplot(4, 3, i+1)\n",
    "        image_fn = outputDir + '/dcgan_img_{:04d}.png'.format(fn)\n",
    "\n",
    "        img = plt.imread(image_fn)\n",
    "        plt.imshow(img, cmap='gray')\n",
    "        plt.axis('off')\n",
    "        plt.title('{} iteractions'.format(fn+1))\n",
    "        \n",
    "final_plot(num_epochs=num_epochs, save_interval=5,outputDir = outputDir)"
   ]
  },
  {
   "cell_type": "code",
   "execution_count": null,
   "metadata": {
    "collapsed": true
   },
   "outputs": [],
   "source": []
  }
 ],
 "metadata": {
  "kernelspec": {
   "display_name": "Python 3",
   "language": "python",
   "name": "python3"
  },
  "language_info": {
   "codemirror_mode": {
    "name": "ipython",
    "version": 3
   },
   "file_extension": ".py",
   "mimetype": "text/x-python",
   "name": "python",
   "nbconvert_exporter": "python",
   "pygments_lexer": "ipython3",
   "version": "3.5.3"
  }
 },
 "nbformat": 4,
 "nbformat_minor": 2
}

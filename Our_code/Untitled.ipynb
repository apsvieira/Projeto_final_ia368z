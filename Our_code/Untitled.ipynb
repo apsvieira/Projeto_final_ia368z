{
 "cells": [
  {
   "cell_type": "code",
   "execution_count": 30,
   "metadata": {
    "collapsed": true
   },
   "outputs": [],
   "source": [
    "import os\n",
    "import time\n",
    "import torch\n",
    "import torch as tc\n",
    "import torch.nn as nn\n",
    "import torch.nn.parallel\n",
    "import torch.backends.cudnn as cudnn\n",
    "import torch.optim as optim\n",
    "import torch.utils.data\n",
    "import torchvision\n",
    "import torchvision.datasets as dset\n",
    "import torchvision.transforms as transforms\n",
    "import torchvision.utils as vutils\n",
    "from torch.autograd import Variable\n",
    "import matplotlib.pyplot as plt\n",
    "#get_ipython().magic('matplotlib inline')\n",
    "import torch.nn.functional as F\n",
    "\n",
    "from PIL import Image\n",
    "import numpy as np\n",
    "import sys,os\n",
    "import math\n",
    "import gc"
   ]
  },
  {
   "cell_type": "code",
   "execution_count": 359,
   "metadata": {
    "collapsed": true
   },
   "outputs": [],
   "source": [
    "nc = 3\n",
    "ngpu = 1\n",
    "nz = 100\n",
    "ngf = 32\n",
    "ndf = 32\n",
    "n_extra_d = 0\n",
    "n_extra_g = 1 # Aqui a jogada é que o gerador deve ser mais poderoso q o detetive\n",
    "imageSize = 64"
   ]
  },
  {
   "cell_type": "code",
   "execution_count": 100,
   "metadata": {
    "collapsed": true
   },
   "outputs": [],
   "source": [
    "n_classes = 10"
   ]
  },
  {
   "cell_type": "code",
   "execution_count": 449,
   "metadata": {
    "collapsed": true
   },
   "outputs": [],
   "source": [
    "class _netD_1(nn.Module):\n",
    "    def __init__(self, ngpu, nz, nc, ndf,  n_extra_layers_d, n_classes):\n",
    "        super(_netD_1, self).__init__()\n",
    "        self.ngpu = ngpu\n",
    "        self.conv1 = nn.Conv2d(in_channels = nc, out_channels = ndf, kernel_size=4, stride=2, padding=1, bias=False)\n",
    "        self.conv2 = nn.Conv2d(in_channels = ndf, out_channels = ndf*2, kernel_size=4, stride=2, padding=1, bias=False)\n",
    "        self.batch2 = nn.BatchNorm2d(ndf * 2)\n",
    "        self.conv3 = nn.Conv2d(in_channels = ndf*2, out_channels = ndf*4, kernel_size=4, stride=2, padding=1, bias=False)\n",
    "        self.batch3 = nn.BatchNorm2d(ndf * 4)\n",
    "        self.conv4 = nn.Conv2d(in_channels = ndf*4, out_channels = ndf*8, kernel_size=4, stride=2, padding=1, bias=False)\n",
    "        self.batch4 = nn.BatchNorm2d(ndf * 8)\n",
    "        \n",
    "        self.final_conv = nn.Conv2d(in_channels=ndf*8, out_channels=n_classes,kernel_size=2,stride=1,padding=0,bias=False)\n",
    "        \n",
    "    def forward(self, x):\n",
    "        print('0',x.size())\n",
    "\n",
    "        x = F.leaky_relu(self.conv1(x),0.02,inplace=True)\n",
    "        print('1',x.size())\n",
    "        x = F.leaky_relu(self.batch2(self.conv2(x)),0.02,inplace=True)\n",
    "        print('2',x.size())\n",
    "        x = F.leaky_relu(self.batch3(self.conv3(x)),0.02,inplace=True)\n",
    "        print('3',x.size())\n",
    "        x = F.leaky_relu(self.batch4(self.conv4(x)),0.02,inplace=True)   \n",
    "        print('antes final',x.size())\n",
    "        x = self.final_conv(x)\n",
    "        print('depois final',x.size())\n",
    "        \n",
    "        x = F.sigmoid(x)\n",
    "\n",
    "        return(x)\n",
    "        \n",
    "  "
   ]
  },
  {
   "cell_type": "code",
   "execution_count": 454,
   "metadata": {
    "collapsed": true
   },
   "outputs": [],
   "source": [
    "class _netG_1(nn.Module):\n",
    "    def __init__(self, ngpu, nz, nc , ngf, n_extra_layers_g):\n",
    "        super(_netG_1, self).__init__()\n",
    "        self.ngpu = ngpu\n",
    "        \n",
    "        self.convt1 = nn.ConvTranspose2d(in_channels = nz, out_channels = ngf * 8, kernel_size=4, stride=2, padding=0, bias=False)\n",
    "        self.batch1 = nn.BatchNorm2d(ngf*8)\n",
    "        self.convt2 = nn.ConvTranspose2d(in_channels = ngf * 8, out_channels = ngf * 4, kernel_size=4, stride=2, padding=1, bias=False)\n",
    "        self.batch2 = nn.BatchNorm2d(ngf*4)\n",
    "        self.convt3 = nn.ConvTranspose2d(in_channels = ngf * 4, out_channels = ngf * 2, kernel_size=4, stride=2, padding=1, bias=False)\n",
    "        self.batch3 = nn.BatchNorm2d(ngf*2)\n",
    "        self.convt4 = nn.ConvTranspose2d(in_channels = ngf*2, out_channels = ngf, kernel_size=4, stride=2, padding=1, bias=False)\n",
    "        self.batch4 = nn.BatchNorm2d(ngf)\n",
    "        \n",
    "        self.final_conv = nn.ConvTranspose2d(in_channels=ngf, out_channels=nc,kernel_size=1,stride=1,padding=0,bias=False)\n",
    "    def forward(self, x):\n",
    "        x = F.leaky_relu(self.batch1(self.convt1(x)),0.02,inplace=True)\n",
    "        x = F.leaky_relu(self.batch2(self.convt2(x)),0.02,inplace=True)\n",
    "        x = F.leaky_relu(self.batch3(self.convt3(x)),0.02,inplace=True)\n",
    "        x = F.leaky_relu(self.batch4(self.convt4(x)),0.02,inplace=True)\n",
    "        x = self.final_conv(x)\n",
    "        x = F.tanh(x)\n",
    "        \n",
    "        return (x)"
   ]
  },
  {
   "cell_type": "code",
   "execution_count": 455,
   "metadata": {
    "collapsed": true
   },
   "outputs": [],
   "source": [
    "netG = _netG_1(ngpu, nz, nc, ndf, n_extra_d)\n"
   ]
  },
  {
   "cell_type": "code",
   "execution_count": 456,
   "metadata": {
    "collapsed": true
   },
   "outputs": [],
   "source": [
    "a = tc.randn(64,100,1,1)"
   ]
  },
  {
   "cell_type": "code",
   "execution_count": 457,
   "metadata": {},
   "outputs": [],
   "source": [
    "output = netG(Variable(a))"
   ]
  },
  {
   "cell_type": "code",
   "execution_count": 458,
   "metadata": {},
   "outputs": [
    {
     "name": "stdout",
     "output_type": "stream",
     "text": [
      "torch.Size([64, 3, 32, 32])\n"
     ]
    }
   ],
   "source": [
    "print(output.size())"
   ]
  },
  {
   "cell_type": "code",
   "execution_count": 450,
   "metadata": {},
   "outputs": [
    {
     "name": "stdout",
     "output_type": "stream",
     "text": [
      "\n"
     ]
    }
   ],
   "source": [
    "\n",
    "netD = _netD_1(ngpu, nz, nc, ndf, n_extra_d,n_classes=10)\n",
    "print()\n"
   ]
  },
  {
   "cell_type": "code",
   "execution_count": 451,
   "metadata": {},
   "outputs": [
    {
     "name": "stdout",
     "output_type": "stream",
     "text": [
      "<class 'torch.FloatTensor'>\n",
      "torch.Size([64, 3, 32, 32])\n"
     ]
    }
   ],
   "source": [
    "image = tc.randn(64,3,32,32)\n",
    "print(type(image))\n",
    "print(image.size())"
   ]
  },
  {
   "cell_type": "code",
   "execution_count": 452,
   "metadata": {},
   "outputs": [
    {
     "name": "stdout",
     "output_type": "stream",
     "text": [
      "0 torch.Size([64, 3, 32, 32])\n",
      "1 torch.Size([64, 32, 16, 16])\n",
      "2 torch.Size([64, 64, 8, 8])\n",
      "3 torch.Size([64, 128, 4, 4])\n",
      "antes final torch.Size([64, 256, 2, 2])\n",
      "depois final torch.Size([64, 10, 1, 1])\n",
      "torch.Size([64, 10, 1, 1])\n"
     ]
    }
   ],
   "source": [
    "output = netD(Variable(image))\n",
    "print(output.size())"
   ]
  },
  {
   "cell_type": "code",
   "execution_count": null,
   "metadata": {
    "collapsed": true
   },
   "outputs": [],
   "source": []
  },
  {
   "cell_type": "code",
   "execution_count": null,
   "metadata": {
    "collapsed": true
   },
   "outputs": [],
   "source": []
  },
  {
   "cell_type": "code",
   "execution_count": null,
   "metadata": {
    "collapsed": true
   },
   "outputs": [],
   "source": [
    "class Net(nn.Module):\n",
    "    def __init__(self, output, image_size=(1,96,96)):\n",
    "        super(Net, self).__init__()\n",
    "        self.conv1 = nn.Conv2d(image_size[0], 64, kernel_size=3)\n",
    "        self.conv2 = nn.Conv2d(64, 128, kernel_size=3)\n",
    "        self.conv3 = nn.Conv2d(128, 256, kernel_size=3)\n",
    "        self.conv4 = nn.Conv2d(256, 256, kernel_size=3)\n",
    "        self.conv5 = nn.Conv2d(256, 256, kernel_size=3)\n",
    "        \n",
    "        feature_size = self._get_conv_output(image_size)\n",
    "        \n",
    "        self.dense1 = nn.Linear(feature_size, 256)\n",
    "        self.dense2 = nn.Linear(256,128)\n",
    "        self.dense3 = nn.Linear(128,64)\n",
    "        self.dense4 = nn.Linear(64, output)\n",
    "        \n",
    "    def _get_conv_output(self, shape):\n",
    "        bs = 1\n",
    "        input = Variable(torch.rand(bs, *shape))\n",
    "        output_feat = self._forward_features(input)\n",
    "        n_size = output_feat.data.view(bs, -1).size(1)\n",
    "        return n_size\n",
    "\n",
    "    def _forward_features(self, x):\n",
    "        x = F.relu(F.dropout(self.conv1(x), training=self.training, p=0.25))\n",
    "        x = F.relu(F.dropout(F.max_pool2d(self.conv2(x), 2), training=self.training, p=0.25))\n",
    "        x = F.relu(F.dropout(self.conv3(x), training=self.training, p=0.25))\n",
    "        x = F.relu(F.dropout(F.max_pool2d(self.conv4(x), 2), training=self.training, p=0.25))\n",
    "        x = F.relu(F.dropout(F.max_pool2d(self.conv5(x), 2), training=self.training, p=0.25))\n",
    "        return x\n",
    "    \n",
    "    def forward(self, x):\n",
    "        x = self._forward_features(x)\n",
    "        x = x.view(x.size(0), -1)\n",
    "        x = F.relu(self.dense1(x))\n",
    "        x = F.dropout(x, training=self.training)\n",
    "        x = F.relu(self.dense2(x))\n",
    "        x = F.relu(self.dense3(x))\n",
    "        x = F.relu(self.dense4(x))\n",
    "        \n",
    "        return x"
   ]
  },
  {
   "cell_type": "code",
   "execution_count": null,
   "metadata": {
    "collapsed": true
   },
   "outputs": [],
   "source": []
  },
  {
   "cell_type": "code",
   "execution_count": null,
   "metadata": {
    "collapsed": true
   },
   "outputs": [],
   "source": []
  },
  {
   "cell_type": "markdown",
   "metadata": {},
   "source": [
    "## Aprendendo a fazer one-hot-encoding"
   ]
  },
  {
   "cell_type": "code",
   "execution_count": 159,
   "metadata": {},
   "outputs": [
    {
     "name": "stdout",
     "output_type": "stream",
     "text": [
      "\n",
      " 1\n",
      " 2\n",
      " 3\n",
      " 4\n",
      " 5\n",
      " 6\n",
      " 7\n",
      " 9\n",
      "[torch.LongTensor of size 8]\n",
      "\n",
      "torch.Size([10, 10])\n"
     ]
    }
   ],
   "source": [
    "y = torch.LongTensor([1,2,3,4,5,6,7,9])\n",
    "print(y)\n",
    "y_onehot = torch.FloatTensor(10, 10)\n",
    "print(y_onehot.size())"
   ]
  },
  {
   "cell_type": "code",
   "execution_count": 160,
   "metadata": {},
   "outputs": [
    {
     "name": "stdout",
     "output_type": "stream",
     "text": [
      "\n",
      "    0     0     0     0     0     0     0     0     0     0\n",
      "    0     0     0     0     0     0     0     0     0     0\n",
      "    0     0     0     0     0     0     0     0     0     0\n",
      "    0     0     0     0     0     0     0     0     0     0\n",
      "    0     0     0     0     0     0     0     0     0     0\n",
      "    0     0     0     0     0     0     0     0     0     0\n",
      "    0     0     0     0     0     0     0     0     0     0\n",
      "    0     0     0     0     0     0     0     0     0     0\n",
      "    0     0     0     0     0     0     0     0     0     0\n",
      "    0     0     0     0     0     0     0     0     0     0\n",
      "[torch.FloatTensor of size 10x10]\n",
      "\n"
     ]
    },
    {
     "ename": "RuntimeError",
     "evalue": "invalid argument 3: Index tensor must have same dimensions as output tensor at /opt/conda/conda-bld/pytorch_1503968623488/work/torch/lib/TH/generic/THTensorMath.c:504",
     "output_type": "error",
     "traceback": [
      "\u001b[0;31m---------------------------------------------------------------------------\u001b[0m",
      "\u001b[0;31mRuntimeError\u001b[0m                              Traceback (most recent call last)",
      "\u001b[0;32m<ipython-input-160-66d07ce62687>\u001b[0m in \u001b[0;36m<module>\u001b[0;34m()\u001b[0m\n\u001b[1;32m      1\u001b[0m \u001b[0mprint\u001b[0m\u001b[0;34m(\u001b[0m\u001b[0my_onehot\u001b[0m\u001b[0;34m.\u001b[0m\u001b[0mzero_\u001b[0m\u001b[0;34m(\u001b[0m\u001b[0;34m)\u001b[0m\u001b[0;34m)\u001b[0m\u001b[0;34m\u001b[0m\u001b[0m\n\u001b[0;32m----> 2\u001b[0;31m \u001b[0mprint\u001b[0m\u001b[0;34m(\u001b[0m\u001b[0my_onehot\u001b[0m\u001b[0;34m.\u001b[0m\u001b[0mscatter_\u001b[0m\u001b[0;34m(\u001b[0m\u001b[0;36m1\u001b[0m\u001b[0;34m,\u001b[0m \u001b[0my\u001b[0m\u001b[0;34m,\u001b[0m \u001b[0;36m1\u001b[0m\u001b[0;34m)\u001b[0m\u001b[0;34m)\u001b[0m\u001b[0;34m\u001b[0m\u001b[0m\n\u001b[0m",
      "\u001b[0;31mRuntimeError\u001b[0m: invalid argument 3: Index tensor must have same dimensions as output tensor at /opt/conda/conda-bld/pytorch_1503968623488/work/torch/lib/TH/generic/THTensorMath.c:504"
     ]
    }
   ],
   "source": [
    "print(y_onehot.zero_())\n",
    "print(y_onehot.scatter_(1, y, 1))\n"
   ]
  },
  {
   "cell_type": "code",
   "execution_count": 161,
   "metadata": {},
   "outputs": [
    {
     "name": "stdout",
     "output_type": "stream",
     "text": [
      "\n",
      " 0\n",
      " 0\n",
      " 1\n",
      " 5\n",
      " 2\n",
      "[torch.LongTensor of size 5x1]\n",
      "\n",
      "\n",
      "    1     0     0     0     0     0     0     0     0     0\n",
      "    1     0     0     0     0     0     0     0     0     0\n",
      "    0     1     0     0     0     0     0     0     0     0\n",
      "    0     0     0     0     0     1     0     0     0     0\n",
      "    0     0     1     0     0     0     0     0     0     0\n",
      "[torch.FloatTensor of size 5x10]\n",
      "\n"
     ]
    }
   ],
   "source": [
    "import torch\n",
    "\n",
    "batch_size = 5\n",
    "nb_digits = 10\n",
    "# Dummy input that HAS to be 2D for the scatter (you can use view(-1,1) if needed)\n",
    "y = torch.LongTensor(batch_size,1).random_() % nb_digits\n",
    "# One hot encoding buffer that you create out of the loop and just keep reusing\n",
    "y_onehot = torch.FloatTensor(batch_size, nb_digits)\n",
    "\n",
    "# In your for loop\n",
    "y_onehot.zero_()\n",
    "y_onehot.scatter_(1, y, 1)\n",
    "\n",
    "print(y)\n",
    "print(y_onehot)"
   ]
  },
  {
   "cell_type": "code",
   "execution_count": null,
   "metadata": {
    "collapsed": true
   },
   "outputs": [],
   "source": [
    "a = tc.randn(10,2)\n",
    "a = Variable(a)"
   ]
  },
  {
   "cell_type": "code",
   "execution_count": 163,
   "metadata": {},
   "outputs": [
    {
     "name": "stdout",
     "output_type": "stream",
     "text": [
      "torch.Size([10, 2])\n"
     ]
    }
   ],
   "source": [
    "a.f\n",
    "print(a.size())"
   ]
  },
  {
   "cell_type": "code",
   "execution_count": 181,
   "metadata": {},
   "outputs": [
    {
     "name": "stdout",
     "output_type": "stream",
     "text": [
      "torch.Size([64, 10])\n",
      "0\n",
      "4\n"
     ]
    }
   ],
   "source": [
    "# your tensor of 16 x 28 dimensions, \n",
    "# where each element has some index (0 to n)\n",
    "inp = torch.LongTensor(64, 10) % n_classes    \n",
    "print(inp.size())\n",
    "print(inp.min())\n",
    "print(inp.max())"
   ]
  },
  {
   "cell_type": "code",
   "execution_count": 185,
   "metadata": {},
   "outputs": [
    {
     "name": "stdout",
     "output_type": "stream",
     "text": [
      "torch.Size([64, 10, 1])\n"
     ]
    }
   ],
   "source": [
    "inp = torch.LongTensor(64, 10) % n_classes    \n",
    "inp_ = torch.unsqueeze(inp, 2)\n",
    "print(inp_.size())"
   ]
  },
  {
   "cell_type": "code",
   "execution_count": 186,
   "metadata": {},
   "outputs": [
    {
     "name": "stdout",
     "output_type": "stream",
     "text": [
      "torch.Size([64, 10, 10])\n"
     ]
    },
    {
     "data": {
      "text/plain": [
       "\n",
       "(0 ,.,.) = \n",
       "   0   0   1  ...    0   0   0\n",
       "   1   0   0  ...    0   0   0\n",
       "   1   0   0  ...    0   0   0\n",
       "     ...       ⋱       ...    \n",
       "   0   0   1  ...    0   0   0\n",
       "   0   0   0  ...    0   0   0\n",
       "   0   0   0  ...    0   1   0\n",
       "\n",
       "(1 ,.,.) = \n",
       "   1   0   0  ...    0   0   0\n",
       "   1   0   0  ...    0   0   0\n",
       "   1   0   0  ...    0   0   0\n",
       "     ...       ⋱       ...    \n",
       "   0   0   0  ...    0   0   0\n",
       "   1   0   0  ...    0   0   0\n",
       "   0   0   0  ...    0   1   0\n",
       "\n",
       "(2 ,.,.) = \n",
       "   0   0   0  ...    0   0   0\n",
       "   1   0   0  ...    0   0   0\n",
       "   1   0   0  ...    0   0   0\n",
       "     ...       ⋱       ...    \n",
       "   1   0   0  ...    0   0   0\n",
       "   0   0   0  ...    0   0   0\n",
       "   0   0   0  ...    0   0   0\n",
       "...\n",
       "\n",
       "(61,.,.) = \n",
       "   1   0   0  ...    0   0   0\n",
       "   0   0   0  ...    0   0   0\n",
       "   1   0   0  ...    0   0   0\n",
       "     ...       ⋱       ...    \n",
       "   1   0   0  ...    0   0   0\n",
       "   1   0   0  ...    0   0   0\n",
       "   0   0   0  ...    0   1   0\n",
       "\n",
       "(62,.,.) = \n",
       "   1   0   0  ...    0   0   0\n",
       "   1   0   0  ...    0   0   0\n",
       "   0   0   0  ...    0   0   0\n",
       "     ...       ⋱       ...    \n",
       "   0   0   0  ...    0   0   0\n",
       "   1   0   0  ...    0   0   0\n",
       "   1   0   0  ...    0   0   0\n",
       "\n",
       "(63,.,.) = \n",
       "   0   0   0  ...    0   1   0\n",
       "   1   0   0  ...    0   0   0\n",
       "   0   0   0  ...    0   0   0\n",
       "     ...       ⋱       ...    \n",
       "   1   0   0  ...    0   0   0\n",
       "   0   0   0  ...    0   0   0\n",
       "   1   0   0  ...    0   0   0\n",
       "[torch.FloatTensor of size 64x10x10]"
      ]
     },
     "execution_count": 186,
     "metadata": {},
     "output_type": "execute_result"
    }
   ],
   "source": [
    "#loop\n",
    "one_hot = torch.FloatTensor(64, 10, n_classes).zero_()\n",
    "print(one_hot.size())\n",
    "one_hot.scatter_(2, inp_, 1)"
   ]
  },
  {
   "cell_type": "code",
   "execution_count": 198,
   "metadata": {},
   "outputs": [
    {
     "name": "stdout",
     "output_type": "stream",
     "text": [
      "torch.Size([64])\n",
      "torch.Size([64])\n"
     ]
    }
   ],
   "source": [
    "random = tc.randn(64)\n",
    "print(random.size())\n",
    "random_hot = random % 10\n",
    "print(random_hot.size())"
   ]
  },
  {
   "cell_type": "code",
   "execution_count": 195,
   "metadata": {},
   "outputs": [
    {
     "name": "stdout",
     "output_type": "stream",
     "text": [
      "torch.Size([16])\n",
      "torch.Size([16, 1])\n",
      "2\n",
      "\n",
      " 2\n",
      "[torch.LongTensor of size 1]\n",
      "\n"
     ]
    }
   ],
   "source": [
    "inp = torch.LongTensor(16) % 10    \n",
    "inp_ = torch.unsqueeze(inp, 1)\n",
    "\n",
    "print(inp.size())\n",
    "print(inp_.size())\n",
    "print(inp[0])\n",
    "print(inp_[0])"
   ]
  },
  {
   "cell_type": "code",
   "execution_count": 227,
   "metadata": {
    "collapsed": true
   },
   "outputs": [],
   "source": [
    "one_hot = tc.LongTensor(64,10,1) % 10"
   ]
  },
  {
   "cell_type": "code",
   "execution_count": 228,
   "metadata": {},
   "outputs": [
    {
     "name": "stdout",
     "output_type": "stream",
     "text": [
      "torch.Size([10, 1])\n"
     ]
    }
   ],
   "source": [
    "a = tc.randn(10)\n",
    "test = torch.unsqueeze(a, 1)\n",
    "print(test.size())\n"
   ]
  },
  {
   "cell_type": "code",
   "execution_count": 229,
   "metadata": {
    "collapsed": true
   },
   "outputs": [],
   "source": [
    "one_hot = one_hot.zero_()"
   ]
  },
  {
   "cell_type": "code",
   "execution_count": 233,
   "metadata": {},
   "outputs": [
    {
     "ename": "RuntimeError",
     "evalue": "dimension out of range (expected to be in range of [-3, 2], but got 10)",
     "output_type": "error",
     "traceback": [
      "\u001b[0;31m---------------------------------------------------------------------------\u001b[0m",
      "\u001b[0;31mRuntimeError\u001b[0m                              Traceback (most recent call last)",
      "\u001b[0;32m<ipython-input-233-1c3e1d95dafb>\u001b[0m in \u001b[0;36m<module>\u001b[0;34m()\u001b[0m\n\u001b[0;32m----> 1\u001b[0;31m \u001b[0mone_hot_oi\u001b[0m \u001b[0;34m=\u001b[0m \u001b[0mone_hot\u001b[0m\u001b[0;34m.\u001b[0m\u001b[0mscatter_\u001b[0m\u001b[0;34m(\u001b[0m\u001b[0;36m10\u001b[0m\u001b[0;34m,\u001b[0m\u001b[0mone_hot\u001b[0m\u001b[0;34m,\u001b[0m \u001b[0;36m1\u001b[0m\u001b[0;34m)\u001b[0m\u001b[0;34m\u001b[0m\u001b[0m\n\u001b[0m\u001b[1;32m      2\u001b[0m \u001b[0mprint\u001b[0m\u001b[0;34m(\u001b[0m\u001b[0mone_hot_oi\u001b[0m\u001b[0;34m.\u001b[0m\u001b[0msize\u001b[0m\u001b[0;34m(\u001b[0m\u001b[0;34m)\u001b[0m\u001b[0;34m)\u001b[0m\u001b[0;34m\u001b[0m\u001b[0m\n",
      "\u001b[0;31mRuntimeError\u001b[0m: dimension out of range (expected to be in range of [-3, 2], but got 10)"
     ]
    }
   ],
   "source": [
    "one_hot_oi = one_hot.scatter_(10,one_hot, 1)\n",
    "print(one_hot_oi.size())"
   ]
  },
  {
   "cell_type": "code",
   "execution_count": 231,
   "metadata": {},
   "outputs": [
    {
     "name": "stdout",
     "output_type": "stream",
     "text": [
      "\n",
      "    1\n",
      "    0\n",
      "    0\n",
      "    0\n",
      "    0\n",
      "    0\n",
      "    0\n",
      "    0\n",
      "    0\n",
      "    0\n",
      "[torch.LongTensor of size 10x1]\n",
      "\n",
      "\n",
      "    1\n",
      "    0\n",
      "    0\n",
      "    0\n",
      "    0\n",
      "    0\n",
      "    0\n",
      "    0\n",
      "    0\n",
      "    0\n",
      "[torch.LongTensor of size 10x1]\n",
      "\n"
     ]
    }
   ],
   "source": [
    "print(one_hot[0])\n",
    "print(one_hot_oi[0])"
   ]
  },
  {
   "cell_type": "code",
   "execution_count": 197,
   "metadata": {},
   "outputs": [
    {
     "name": "stdout",
     "output_type": "stream",
     "text": [
      "torch.Size([16])\n",
      "torch.Size([16, 10])\n"
     ]
    }
   ],
   "source": [
    "one_hot = torch.FloatTensor(16, 10).zero_()\n",
    "one_hot.scatter_(1, inp_, 1)\n",
    "\n",
    "print(one_hot.size())"
   ]
  },
  {
   "cell_type": "code",
   "execution_count": 192,
   "metadata": {},
   "outputs": [
    {
     "name": "stdout",
     "output_type": "stream",
     "text": [
      "\n",
      " 4\n",
      " 0\n",
      " 6\n",
      " 0\n",
      " 4\n",
      " 0\n",
      " 8\n",
      " 8\n",
      " 0\n",
      " 0\n",
      " 4\n",
      " 0\n",
      " 8\n",
      " 0\n",
      " 8\n",
      " 8\n",
      " 0\n",
      " 0\n",
      " 0\n",
      " 6\n",
      " 8\n",
      " 0\n",
      " 8\n",
      " 8\n",
      " 0\n",
      " 6\n",
      " 0\n",
      " 0\n",
      "[torch.LongTensor of size 28]\n",
      " \n",
      "    0     0     0     0     1     0     0     0     0     0\n",
      "    1     0     0     0     0     0     0     0     0     0\n",
      "    0     0     0     0     0     0     1     0     0     0\n",
      "    1     0     0     0     0     0     0     0     0     0\n",
      "    0     0     0     0     1     0     0     0     0     0\n",
      "    1     0     0     0     0     0     0     0     0     0\n",
      "    0     0     0     0     0     0     0     0     1     0\n",
      "    0     0     0     0     0     0     0     0     1     0\n",
      "    1     0     0     0     0     0     0     0     0     0\n",
      "    1     0     0     0     0     0     0     0     0     0\n",
      "    0     0     0     0     1     0     0     0     0     0\n",
      "    1     0     0     0     0     0     0     0     0     0\n",
      "    0     0     0     0     0     0     0     0     1     0\n",
      "    1     0     0     0     0     0     0     0     0     0\n",
      "    0     0     0     0     0     0     0     0     1     0\n",
      "    0     0     0     0     0     0     0     0     1     0\n",
      "    1     0     0     0     0     0     0     0     0     0\n",
      "    1     0     0     0     0     0     0     0     0     0\n",
      "    1     0     0     0     0     0     0     0     0     0\n",
      "    0     0     0     0     0     0     1     0     0     0\n",
      "    0     0     0     0     0     0     0     0     1     0\n",
      "    1     0     0     0     0     0     0     0     0     0\n",
      "    0     0     0     0     0     0     0     0     1     0\n",
      "    0     0     0     0     0     0     0     0     1     0\n",
      "    1     0     0     0     0     0     0     0     0     0\n",
      "    0     0     0     0     0     0     1     0     0     0\n",
      "    1     0     0     0     0     0     0     0     0     0\n",
      "    1     0     0     0     0     0     0     0     0     0\n",
      "[torch.FloatTensor of size 28x10]\n",
      "\n"
     ]
    }
   ],
   "source": [
    "print(inp[0] , one_hot[0])"
   ]
  },
  {
   "cell_type": "code",
   "execution_count": 236,
   "metadata": {},
   "outputs": [
    {
     "name": "stdout",
     "output_type": "stream",
     "text": [
      "torch.Size([1, 10])\n",
      "\n",
      "-1.6505  0.5080 -0.0269 -0.4995  2.4222 -0.8577 -1.2725  1.3640 -0.2171 -0.6493\n",
      "[torch.FloatTensor of size 1x10]\n",
      "\n"
     ]
    }
   ],
   "source": [
    "a = tc.randn(10)\n",
    "b = a.view(-1,10)\n",
    "print(b.size())\n",
    "print(b)"
   ]
  },
  {
   "cell_type": "code",
   "execution_count": null,
   "metadata": {
    "collapsed": true
   },
   "outputs": [],
   "source": []
  },
  {
   "cell_type": "code",
   "execution_count": 247,
   "metadata": {},
   "outputs": [
    {
     "name": "stdout",
     "output_type": "stream",
     "text": [
      "torch.Size([64])\n",
      "torch.Size([64, 1])\n"
     ]
    }
   ],
   "source": [
    "a = tc.LongTensor(64) % 10\n",
    "print(a.size())\n",
    "a_ = tc.unsqueeze(a,1)\n",
    "print(a_.size())"
   ]
  },
  {
   "cell_type": "code",
   "execution_count": 252,
   "metadata": {},
   "outputs": [
    {
     "data": {
      "text/plain": [
       "\n",
       "    0     0     0     0     0     0     1     0     0     0\n",
       "    0     0     0     0     0     0     1     0     0     0\n",
       "    0     0     0     0     0     0     0     0     1     0\n",
       "    0     0     0     0     0     1     0     0     0     0\n",
       "    1     0     0     0     0     0     0     0     0     0\n",
       "    1     0     0     0     0     0     0     0     0     0\n",
       "    1     0     0     0     0     0     0     0     0     0\n",
       "    0     0     0     0     0     1     0     0     0     0\n",
       "    0     0     0     0     0     0     0     0     1     0\n",
       "    1     0     0     0     0     0     0     0     0     0\n",
       "    1     0     0     0     0     0     0     0     0     0\n",
       "    1     0     0     0     0     0     0     0     0     0\n",
       "    1     0     0     0     0     0     0     0     0     0\n",
       "    0     0     0     0     0     0     0     0     0     1\n",
       "    1     0     0     0     0     0     0     0     0     0\n",
       "    1     0     0     0     0     0     0     0     0     0\n",
       "    0     0     1     0     0     0     0     0     0     0\n",
       "    0     0     0     0     1     0     0     0     0     0\n",
       "    1     0     0     0     0     0     0     0     0     0\n",
       "    0     0     0     0     0     1     0     0     0     0\n",
       "    1     0     0     0     0     0     0     0     0     0\n",
       "    1     0     0     0     0     0     0     0     0     0\n",
       "    0     0     1     0     0     0     0     0     0     0\n",
       "    1     0     0     0     0     0     0     0     0     0\n",
       "    1     0     0     0     0     0     0     0     0     0\n",
       "    0     0     0     0     0     0     0     1     0     0\n",
       "    0     0     0     0     0     0     1     0     0     0\n",
       "    0     0     0     0     1     0     0     0     0     0\n",
       "    0     0     0     0     1     0     0     0     0     0\n",
       "    1     0     0     0     0     0     0     0     0     0\n",
       "    1     0     0     0     0     0     0     0     0     0\n",
       "    0     0     0     0     0     0     0     1     0     0\n",
       "    1     0     0     0     0     0     0     0     0     0\n",
       "    0     0     0     0     1     0     0     0     0     0\n",
       "    1     0     0     0     0     0     0     0     0     0\n",
       "    1     0     0     0     0     0     0     0     0     0\n",
       "    1     0     0     0     0     0     0     0     0     0\n",
       "    1     0     0     0     0     0     0     0     0     0\n",
       "    1     0     0     0     0     0     0     0     0     0\n",
       "    1     0     0     0     0     0     0     0     0     0\n",
       "    0     0     1     0     0     0     0     0     0     0\n",
       "    0     0     0     0     0     0     0     0     1     0\n",
       "    0     0     0     0     0     0     1     0     0     0\n",
       "    0     0     0     0     0     0     0     0     0     1\n",
       "    0     0     1     0     0     0     0     0     0     0\n",
       "    0     0     1     0     0     0     0     0     0     0\n",
       "    0     0     0     0     0     0     0     0     1     0\n",
       "    1     0     0     0     0     0     0     0     0     0\n",
       "    1     0     0     0     0     0     0     0     0     0\n",
       "    0     0     1     0     0     0     0     0     0     0\n",
       "    1     0     0     0     0     0     0     0     0     0\n",
       "    1     0     0     0     0     0     0     0     0     0\n",
       "    0     0     0     0     1     0     0     0     0     0\n",
       "    0     0     0     0     0     0     0     0     0     1\n",
       "    0     0     0     0     0     0     1     0     0     0\n",
       "    0     0     0     0     1     0     0     0     0     0\n",
       "    1     0     0     0     0     0     0     0     0     0\n",
       "    1     0     0     0     0     0     0     0     0     0\n",
       "    1     0     0     0     0     0     0     0     0     0\n",
       "    1     0     0     0     0     0     0     0     0     0\n",
       "    1     0     0     0     0     0     0     0     0     0\n",
       "    1     0     0     0     0     0     0     0     0     0\n",
       "    1     0     0     0     0     0     0     0     0     0\n",
       "    1     0     0     0     0     0     0     0     0     0\n",
       "[torch.FloatTensor of size 64x10]"
      ]
     },
     "execution_count": 252,
     "metadata": {},
     "output_type": "execute_result"
    }
   ],
   "source": [
    "one_hot = torch.FloatTensor(64, 10).zero_()\n",
    "one_hot.scatter_(1, a_, 1)\n"
   ]
  },
  {
   "cell_type": "code",
   "execution_count": null,
   "metadata": {
    "collapsed": true
   },
   "outputs": [],
   "source": [
    "inp = torch.LongTensor(16, 28) % n    \n",
    "inp_ = torch.unsqueeze(inp, 2)\n",
    "\n",
    "one_hot = torch.FloatTensor(16, 28, n).zero_()\n",
    "one_hot.scatter_(2, inp_, 1)\n",
    "\n",
    "print(inp)\n",
    "print(one_hot)"
   ]
  },
  {
   "cell_type": "code",
   "execution_count": null,
   "metadata": {
    "collapsed": true
   },
   "outputs": [],
   "source": []
  },
  {
   "cell_type": "code",
   "execution_count": 264,
   "metadata": {
    "collapsed": true
   },
   "outputs": [],
   "source": [
    "a = tc.randn(10)\n",
    "a = Variable(a)\n",
    "b = tc.randn(10)\n",
    "b = Variable(b)"
   ]
  },
  {
   "cell_type": "code",
   "execution_count": 265,
   "metadata": {},
   "outputs": [
    {
     "name": "stdout",
     "output_type": "stream",
     "text": [
      "Variable containing:\n",
      "-0.0671\n",
      " 1.1891\n",
      " 1.3497\n",
      "-0.6009\n",
      " 1.0966\n",
      " 2.1872\n",
      " 0.1390\n",
      "-1.2602\n",
      "-0.9997\n",
      " 0.2749\n",
      "[torch.FloatTensor of size 10]\n",
      "\n",
      "Variable containing:\n",
      " 0.7839\n",
      " 0.8463\n",
      " 1.6752\n",
      "-1.2068\n",
      "-0.4864\n",
      "-0.7506\n",
      "-1.8374\n",
      " 2.0915\n",
      " 0.1442\n",
      "-0.5733\n",
      "[torch.FloatTensor of size 10]\n",
      "\n"
     ]
    }
   ],
   "source": [
    "print(a)\n",
    "print(b)"
   ]
  },
  {
   "cell_type": "code",
   "execution_count": 266,
   "metadata": {},
   "outputs": [
    {
     "ename": "RuntimeError",
     "evalue": "copy from Variable to torch.FloatTensor isn't implemented",
     "output_type": "error",
     "traceback": [
      "\u001b[0;31m---------------------------------------------------------------------------\u001b[0m",
      "\u001b[0;31mRuntimeError\u001b[0m                              Traceback (most recent call last)",
      "\u001b[0;32m<ipython-input-266-2ef12830a6f1>\u001b[0m in \u001b[0;36m<module>\u001b[0;34m()\u001b[0m\n\u001b[0;32m----> 1\u001b[0;31m \u001b[0ma\u001b[0m \u001b[0;34m=\u001b[0m \u001b[0ma\u001b[0m\u001b[0;34m.\u001b[0m\u001b[0mdata\u001b[0m\u001b[0;34m.\u001b[0m\u001b[0mcopy_\u001b[0m\u001b[0;34m(\u001b[0m\u001b[0mb\u001b[0m\u001b[0;34m)\u001b[0m\u001b[0;34m\u001b[0m\u001b[0m\n\u001b[0m\u001b[1;32m      2\u001b[0m \u001b[0mprint\u001b[0m\u001b[0;34m(\u001b[0m\u001b[0ma\u001b[0m\u001b[0;34m)\u001b[0m\u001b[0;34m\u001b[0m\u001b[0m\n",
      "\u001b[0;31mRuntimeError\u001b[0m: copy from Variable to torch.FloatTensor isn't implemented"
     ]
    }
   ],
   "source": [
    "a = a.data.copy_(b)\n",
    "print(a)\n"
   ]
  },
  {
   "cell_type": "code",
   "execution_count": 267,
   "metadata": {},
   "outputs": [
    {
     "name": "stdout",
     "output_type": "stream",
     "text": [
      "<class 'torch.autograd.variable.Variable'>\n"
     ]
    }
   ],
   "source": [
    "print(type(a))"
   ]
  },
  {
   "cell_type": "code",
   "execution_count": null,
   "metadata": {
    "collapsed": true
   },
   "outputs": [],
   "source": []
  }
 ],
 "metadata": {
  "kernelspec": {
   "display_name": "Python 3",
   "language": "python",
   "name": "python3"
  },
  "language_info": {
   "codemirror_mode": {
    "name": "ipython",
    "version": 3
   },
   "file_extension": ".py",
   "mimetype": "text/x-python",
   "name": "python",
   "nbconvert_exporter": "python",
   "pygments_lexer": "ipython3",
   "version": "3.5.3"
  }
 },
 "nbformat": 4,
 "nbformat_minor": 2
}
